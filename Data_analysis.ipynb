{
  "cells": [
    {
      "cell_type": "code",
      "execution_count": 11,
      "metadata": {
        "colab": {
          "base_uri": "https://localhost:8080/"
        },
        "id": "gorgeous-karma",
        "outputId": "407111d8-bebc-4833-b62e-288db9ad31e8"
      },
      "outputs": [
        {
          "output_type": "stream",
          "name": "stdout",
          "text": [
            "Requirement already satisfied: wget in /usr/local/lib/python3.7/dist-packages (3.2)\n",
            "Collecting chart_studio\n",
            "  Downloading chart_studio-1.1.0-py3-none-any.whl (64 kB)\n",
            "\u001b[K     |████████████████████████████████| 64 kB 1.9 MB/s \n",
            "\u001b[?25hRequirement already satisfied: requests in /usr/local/lib/python3.7/dist-packages (from chart_studio) (2.23.0)\n",
            "Collecting retrying>=1.3.3\n",
            "  Downloading retrying-1.3.3.tar.gz (10 kB)\n",
            "Requirement already satisfied: six in /usr/local/lib/python3.7/dist-packages (from chart_studio) (1.15.0)\n",
            "Requirement already satisfied: plotly in /usr/local/lib/python3.7/dist-packages (from chart_studio) (5.5.0)\n",
            "Requirement already satisfied: tenacity>=6.2.0 in /usr/local/lib/python3.7/dist-packages (from plotly->chart_studio) (8.0.1)\n",
            "Requirement already satisfied: chardet<4,>=3.0.2 in /usr/local/lib/python3.7/dist-packages (from requests->chart_studio) (3.0.4)\n",
            "Requirement already satisfied: certifi>=2017.4.17 in /usr/local/lib/python3.7/dist-packages (from requests->chart_studio) (2021.10.8)\n",
            "Requirement already satisfied: idna<3,>=2.5 in /usr/local/lib/python3.7/dist-packages (from requests->chart_studio) (2.10)\n",
            "Requirement already satisfied: urllib3!=1.25.0,!=1.25.1,<1.26,>=1.21.1 in /usr/local/lib/python3.7/dist-packages (from requests->chart_studio) (1.24.3)\n",
            "Building wheels for collected packages: retrying\n",
            "  Building wheel for retrying (setup.py) ... \u001b[?25l\u001b[?25hdone\n",
            "  Created wheel for retrying: filename=retrying-1.3.3-py3-none-any.whl size=11447 sha256=1bf0463ddce5f3a0558b4cf5f3d9bb75073eba619d8b02f4bd9944dd6b571020\n",
            "  Stored in directory: /root/.cache/pip/wheels/f9/8d/8d/f6af3f7f9eea3553bc2fe6d53e4b287dad18b06a861ac56ddf\n",
            "Successfully built retrying\n",
            "Installing collected packages: retrying, chart-studio\n",
            "Successfully installed chart-studio-1.1.0 retrying-1.3.3\n"
          ]
        }
      ],
      "source": [
        "!pip install wget\n",
        "!pip install chart_studio"
      ],
      "id": "gorgeous-karma"
    },
    {
      "cell_type": "code",
      "execution_count": 13,
      "metadata": {
        "id": "oyI3LnRGu2Mb",
        "colab": {
          "base_uri": "https://localhost:8080/",
          "height": 17
        },
        "outputId": "107449cc-8e61-4bfd-a1fb-a61df74e59c7"
      },
      "outputs": [
        {
          "output_type": "display_data",
          "data": {
            "text/html": [
              "        <script type=\"text/javascript\">\n",
              "        window.PlotlyConfig = {MathJaxConfig: 'local'};\n",
              "        if (window.MathJax) {MathJax.Hub.Config({SVG: {font: \"STIX-Web\"}});}\n",
              "        if (typeof require !== 'undefined') {\n",
              "        require.undef(\"plotly\");\n",
              "        requirejs.config({\n",
              "            paths: {\n",
              "                'plotly': ['https://cdn.plot.ly/plotly-2.8.3.min']\n",
              "            }\n",
              "        });\n",
              "        require(['plotly'], function(Plotly) {\n",
              "            window._Plotly = Plotly;\n",
              "        });\n",
              "        }\n",
              "        </script>\n",
              "        "
            ]
          },
          "metadata": {}
        }
      ],
      "source": [
        "import wget\n",
        "import pandas as pd\n",
        "import numpy as np\n",
        "import matplotlib\n",
        "import matplotlib.pyplot as plt\n",
        "import seaborn as sns\n",
        "%matplotlib inline\n",
        "matplotlib.rcParams['figure.figsize'] = (10.0, 6.0)\n",
        "import plotly.graph_objs as go\n",
        "import chart_studio.plotly as py\n",
        "import cufflinks\n",
        "pd.options.display.max_columns = 30\n",
        "from IPython.core.interactiveshell import InteractiveShell\n",
        "InteractiveShell.ast_node_interactivity = 'all'\n",
        "from plotly.offline import iplot\n",
        "cufflinks.go_offline()\n",
        "cufflinks.set_config_file(world_readable=True, theme='pearl')"
      ],
      "id": "oyI3LnRGu2Mb"
    },
    {
      "cell_type": "code",
      "execution_count": 3,
      "metadata": {
        "id": "international-custom"
      },
      "outputs": [],
      "source": [
        "pd.set_option('precision', 2)"
      ],
      "id": "international-custom"
    },
    {
      "cell_type": "markdown",
      "metadata": {
        "id": "overhead-priority"
      },
      "source": [
        "### Dowloading dataset"
      ],
      "id": "overhead-priority"
    },
    {
      "cell_type": "code",
      "execution_count": 4,
      "metadata": {
        "colab": {
          "base_uri": "https://localhost:8080/",
          "height": 35
        },
        "id": "instrumental-mills",
        "outputId": "824037dd-6803-4fd0-c634-d10c39bd0dcb"
      },
      "outputs": [
        {
          "output_type": "execute_result",
          "data": {
            "text/plain": [
              "'./webis_test (1).csv'"
            ],
            "application/vnd.google.colaboratory.intrinsic+json": {
              "type": "string"
            }
          },
          "metadata": {},
          "execution_count": 4
        }
      ],
      "source": [
        "wget.download(\"https://ml-coding-test.s3.eu-west-1.amazonaws.com/webis_train.csv\", './webis_train.csv')\n",
        "wget.download(\"https://ml-coding-test.s3.eu-west-1.amazonaws.com/webis_test.csv\", './webis_test.csv')"
      ],
      "id": "instrumental-mills"
    },
    {
      "cell_type": "markdown",
      "metadata": {
        "id": "fewer-assets"
      },
      "source": [
        "### Reading dataset"
      ],
      "id": "fewer-assets"
    },
    {
      "cell_type": "code",
      "execution_count": 5,
      "metadata": {
        "id": "according-findings"
      },
      "outputs": [],
      "source": [
        "df = pd.read_csv(\"webis_train.csv\", delimiter=',', header=0)\n",
        "# Removing nan values to simplify training process / I will only use postText to classify each instance\n",
        "df_train = df[[\"postText\", \"truthClass\"]].dropna()\n",
        "\n",
        "\n",
        "df = pd.read_csv(\"webis_test.csv\", delimiter=',', header=0)\n",
        "# Removing nan values to simplify training process / I will only use postText to classify each instance\n",
        "df_test = df[[\"postText\", \"truthClass\"]].dropna()"
      ],
      "id": "according-findings"
    },
    {
      "cell_type": "markdown",
      "source": [
        "### Analyzing length of instances per subset and class"
      ],
      "metadata": {
        "id": "ZaZaytDjzgZn"
      },
      "id": "ZaZaytDjzgZn"
    },
    {
      "cell_type": "code",
      "source": [
        "n_words = lambda x: len(x.split(\" \"))\n",
        "df_train['postText_len'] = df_train['postText'].astype(str).apply(n_words)\n",
        "df_test['postText_len'] = df_test['postText'].astype(str).apply(n_words)\n",
        "print(\"Number of words per instance in training set\")\n",
        "df_train['postText_len'].plot(\n",
        "    kind='hist',\n",
        "    bins=100,\n",
        "    title='Training: Text Length Distribution')"
      ],
      "metadata": {
        "colab": {
          "base_uri": "https://localhost:8080/",
          "height": 425
        },
        "id": "YVab0SrnrcCf",
        "outputId": "ea04f51e-cbb5-4e11-de56-01c75cf9930a"
      },
      "id": "YVab0SrnrcCf",
      "execution_count": 35,
      "outputs": [
        {
          "output_type": "stream",
          "name": "stdout",
          "text": [
            "Number of words per instance in training set\n"
          ]
        },
        {
          "output_type": "execute_result",
          "data": {
            "text/plain": [
              "<matplotlib.axes._subplots.AxesSubplot at 0x7f438f5f24d0>"
            ]
          },
          "metadata": {},
          "execution_count": 35
        },
        {
          "output_type": "display_data",
          "data": {
            "text/plain": [
              "<Figure size 720x432 with 1 Axes>"
            ],
            "image/png": "[encoded data removed]"
          },
          "metadata": {
            "needs_background": "light"
          }
        }
      ]
    },
    {
      "cell_type": "code",
      "execution_count": 36,
      "metadata": {
        "id": "01Ag2ujeAoQ3",
        "colab": {
          "base_uri": "https://localhost:8080/",
          "height": 425
        },
        "outputId": "c44427ea-61f6-4a0c-b41b-6c945588dc38"
      },
      "outputs": [
        {
          "output_type": "stream",
          "name": "stdout",
          "text": [
            "Number of words per instance in test set\n"
          ]
        },
        {
          "output_type": "execute_result",
          "data": {
            "text/plain": [
              "<matplotlib.axes._subplots.AxesSubplot at 0x7f438f69ec90>"
            ]
          },
          "metadata": {},
          "execution_count": 36
        },
        {
          "output_type": "display_data",
          "data": {
            "text/plain": [
              "<Figure size 720x432 with 1 Axes>"
            ],
            "image/png": "[encoded data removed]"
          },
          "metadata": {
            "needs_background": "light"
          }
        }
      ],
      "source": [
        "print(\"Number of words per instance in test set\")\n",
        "df_test['postText_len'].plot(\n",
        "    kind='hist',\n",
        "    bins=100,\n",
        "    title='Test: Text Length Distribution')"
      ],
      "id": "01Ag2ujeAoQ3"
    },
    {
      "cell_type": "code",
      "source": [
        "print(\"Number of words per instance in training set\")\n",
        "df_train.loc[df_train.truthClass == \"clickbait\", ['postText_len']].plot(\n",
        "    kind='hist',\n",
        "    bins=100,\n",
        "    title='Training: Positive Text Length Distribution')"
      ],
      "metadata": {
        "colab": {
          "base_uri": "https://localhost:8080/",
          "height": 425
        },
        "id": "zWz7IA-_w_ZD",
        "outputId": "9216bf32-3463-4ba3-c040-5b21a4f46d45"
      },
      "id": "zWz7IA-_w_ZD",
      "execution_count": 38,
      "outputs": [
        {
          "output_type": "stream",
          "name": "stdout",
          "text": [
            "Number of words per instance in training set\n"
          ]
        },
        {
          "output_type": "execute_result",
          "data": {
            "text/plain": [
              "<matplotlib.axes._subplots.AxesSubplot at 0x7f438f190d50>"
            ]
          },
          "metadata": {},
          "execution_count": 38
        },
        {
          "output_type": "display_data",
          "data": {
            "text/plain": [
              "<Figure size 720x432 with 1 Axes>"
            ],
            "image/png": "[encoded data removed]"
          },
          "metadata": {
            "needs_background": "light"
          }
        }
      ]
    },
    {
      "cell_type": "code",
      "source": [
        "print(\"Number of words per instance in training set\")\n",
        "df_train.loc[df_train.truthClass != \"clickbait\", ['postText_len']].plot(\n",
        "    kind='hist',\n",
        "    bins=100,\n",
        "    title='Training: Negative Text Length Distribution')"
      ],
      "metadata": {
        "colab": {
          "base_uri": "https://localhost:8080/",
          "height": 425
        },
        "id": "_Ce6RiqGyAMq",
        "outputId": "3a64f7c8-f08e-43c1-c019-90246e439b29"
      },
      "id": "_Ce6RiqGyAMq",
      "execution_count": 39,
      "outputs": [
        {
          "output_type": "stream",
          "name": "stdout",
          "text": [
            "Number of words per instance in training set\n"
          ]
        },
        {
          "output_type": "execute_result",
          "data": {
            "text/plain": [
              "<matplotlib.axes._subplots.AxesSubplot at 0x7f438efc1a50>"
            ]
          },
          "metadata": {},
          "execution_count": 39
        },
        {
          "output_type": "display_data",
          "data": {
            "text/plain": [
              "<Figure size 720x432 with 1 Axes>"
            ],
            "image/png": "[encoded data removed]"
          },
          "metadata": {
            "needs_background": "light"
          }
        }
      ]
    },
    {
      "cell_type": "markdown",
      "source": [
        "Acerca de la lonigitud de los mensajes. Utilizando un split basado unicamente en espacio, se puede observar que los datos de ambas clases (positiva y negativa), siguen patrones de longitud similares; concentrandose la maximas frecuencias sobretodo en mensajes de alrededor de 10 tokens. En un principio es de esperar que no haya ningún problema con limitaciones de tamaño impuestas por BERT y similares."
      ],
      "metadata": {
        "id": "YBihbFEmytdb"
      },
      "id": "YBihbFEmytdb"
    },
    {
      "cell_type": "markdown",
      "source": [
        "\n",
        "### Analyzing distribution of classes\n",
        "\n",
        "> Bloque con sangría\n",
        "\n",
        "\n"
      ],
      "metadata": {
        "id": "5Rfd_fi2z_9v"
      },
      "id": "5Rfd_fi2z_9v"
    },
    {
      "cell_type": "code",
      "source": [
        "print(\"Training data: Number of negative instances:\", len(df_train.loc[df_train.truthClass != \"clickbait\"]))\n",
        "print(\"Training data: Number of positive instances:\", len(df_train.loc[df_train.truthClass == \"clickbait\"]))"
      ],
      "metadata": {
        "colab": {
          "base_uri": "https://localhost:8080/"
        },
        "id": "3xo6ZSE9z29b",
        "outputId": "71eeef2e-0e1b-4c24-a5be-091424988f38"
      },
      "id": "3xo6ZSE9z29b",
      "execution_count": 44,
      "outputs": [
        {
          "output_type": "stream",
          "name": "stdout",
          "text": [
            "Training data: Number of negative instances: 14768\n",
            "Training data: Number of positive instances: 4716\n"
          ]
        }
      ]
    },
    {
      "cell_type": "code",
      "source": [
        "print(\"Test data: Number of negative instances:\", len(df_test.loc[df_test.truthClass != \"clickbait\"]))\n",
        "print(\"Test data: Number of positive instances:\", len(df_test.loc[df_test.truthClass == \"clickbait\"]))"
      ],
      "metadata": {
        "colab": {
          "base_uri": "https://localhost:8080/"
        },
        "id": "-R8rkC6-0M62",
        "outputId": "7f76d664-04a9-4c87-80fb-f3942f5cbede"
      },
      "id": "-R8rkC6-0M62",
      "execution_count": 45,
      "outputs": [
        {
          "output_type": "stream",
          "name": "stdout",
          "text": [
            "Test data: Number of negative instances: 14455\n",
            "Test data: Number of positive instances: 4458\n"
          ]
        }
      ]
    },
    {
      "cell_type": "markdown",
      "source": [
        "Este problema se presenta como una tarea de clasificación con distribuciones entre clases desbalanceadas. Enfoques como medidas de evaluación Macro, permitiran conocer el performance de los sistemas desarrollados prestando detalle a la clase minoritaria i.e. la relevante en este caso."
      ],
      "metadata": {
        "id": "hso1dm0V0iZp"
      },
      "id": "hso1dm0V0iZp"
    },
    {
      "cell_type": "markdown",
      "source": [
        "### Analyzing most frequent words per class"
      ],
      "metadata": {
        "id": "0KNPV3Xh1X_V"
      },
      "id": "0KNPV3Xh1X_V"
    },
    {
      "cell_type": "code",
      "source": [
        "from collections import Counter\n",
        "from nltk.corpus import stopwords\n",
        "import nltk\n",
        "nltk.download('stopwords')\n",
        "\n",
        "most_frequent_words_neg = Counter([x for x in \" \".join(df_train.loc[df_train.truthClass != \"clickbait\", \"postText\"]).lower().split() if x not in stopwords.words(\"english\")]).most_common(100)\n",
        "\n",
        "most_frequent_words_pos = Counter([x for x in \" \".join(df_train.loc[df_train.truthClass == \"clickbait\", \"postText\"]).lower().split() if x not in stopwords.words(\"english\")]).most_common(100)"
      ],
      "metadata": {
        "colab": {
          "base_uri": "https://localhost:8080/"
        },
        "id": "5Pyc-9_G0fH_",
        "outputId": "9bc10014-21b2-48c0-94d1-af5e135e73a2"
      },
      "id": "5Pyc-9_G0fH_",
      "execution_count": 56,
      "outputs": [
        {
          "output_type": "stream",
          "name": "stdout",
          "text": [
            "[nltk_data] Downloading package stopwords to /root/nltk_data...\n",
            "[nltk_data]   Package stopwords is already up-to-date!\n"
          ]
        },
        {
          "output_type": "execute_result",
          "data": {
            "text/plain": [
              "True"
            ]
          },
          "metadata": {},
          "execution_count": 56
        }
      ]
    },
    {
      "cell_type": "code",
      "source": [
        "most_frequent_words = {x:y\n",
        "    for x,y in most_frequent_words_neg\n",
        "}\n",
        "for x, y in most_frequent_words_pos:\n",
        "  most_frequent_words[x] = most_frequent_words.get(x, 0)-y"
      ],
      "metadata": {
        "id": "I1-Q-QHm1Vq4"
      },
      "id": "I1-Q-QHm1Vq4",
      "execution_count": 57,
      "outputs": []
    },
    {
      "cell_type": "code",
      "source": [
        "for x in most_frequent_words:\n",
        "  print(\"El termino:\", x, \"aparece \", most_frequent_words[x], \"veces en el conjunto negativo que en el positvo.\")"
      ],
      "metadata": {
        "colab": {
          "base_uri": "https://localhost:8080/"
        },
        "id": "7sQUBAwe31Th",
        "outputId": "291cea91-de4a-40c8-c1ed-3bfb1e824f8c"
      },
      "id": "7sQUBAwe31Th",
      "execution_count": 58,
      "outputs": [
        {
          "output_type": "stream",
          "name": "stdout",
          "text": [
            "El termino: trump aparece  1154 veces en el conjunto negativo que en el positvo.\n",
            "El termino: new aparece  687 veces en el conjunto negativo que en el positvo.\n",
            "El termino: says aparece  597 veces en el conjunto negativo que en el positvo.\n",
            "El termino: via aparece  351 veces en el conjunto negativo que en el positvo.\n",
            "El termino: trump's aparece  340 veces en el conjunto negativo que en el positvo.\n",
            "El termino: donald aparece  322 veces en el conjunto negativo que en el positvo.\n",
            "El termino: president aparece  339 veces en el conjunto negativo que en el positvo.\n",
            "El termino: first aparece  306 veces en el conjunto negativo que en el positvo.\n",
            "El termino: us aparece  262 veces en el conjunto negativo que en el positvo.\n",
            "El termino: u.s. aparece  296 veces en el conjunto negativo que en el positvo.\n",
            "El termino: people aparece  139 veces en el conjunto negativo que en el positvo.\n",
            "El termino: one aparece  159 veces en el conjunto negativo que en el positvo.\n",
            "El termino: house aparece  224 veces en el conjunto negativo que en el positvo.\n",
            "El termino: police aparece  254 veces en el conjunto negativo que en el positvo.\n",
            "El termino: man aparece  196 veces en el conjunto negativo que en el positvo.\n",
            "El termino: could aparece  121 veces en el conjunto negativo que en el positvo.\n",
            "El termino: may aparece  171 veces en el conjunto negativo que en el positvo.\n",
            "El termino: say aparece  185 veces en el conjunto negativo que en el positvo.\n",
            "El termino: watch aparece  173 veces en el conjunto negativo que en el positvo.\n",
            "El termino: &amp; aparece  179 veces en el conjunto negativo que en el positvo.\n",
            "El termino: white aparece  205 veces en el conjunto negativo que en el positvo.\n",
            "El termino: back aparece  167 veces en el conjunto negativo que en el positvo.\n",
            "El termino: years aparece  159 veces en el conjunto negativo que en el positvo.\n",
            "El termino: day aparece  98 veces en el conjunto negativo que en el positvo.\n",
            "El termino: two aparece  181 veces en el conjunto negativo que en el positvo.\n",
            "El termino: north aparece  175 veces en el conjunto negativo que en el positvo.\n",
            "El termino: get aparece  44 veces en el conjunto negativo que en el positvo.\n",
            "El termino: 2017 aparece  89 veces en el conjunto negativo que en el positvo.\n",
            "El termino: attack aparece  162 veces en el conjunto negativo que en el positvo.\n",
            "El termino: time aparece  99 veces en el conjunto negativo que en el positvo.\n",
            "El termino: best aparece  14 veces en el conjunto negativo que en el positvo.\n",
            "El termino: video aparece  110 veces en el conjunto negativo que en el positvo.\n",
            "El termino: like aparece  88 veces en el conjunto negativo que en el positvo.\n",
            "El termino: woman aparece  103 veces en el conjunto negativo que en el positvo.\n",
            "El termino: killed aparece  148 veces en el conjunto negativo que en el positvo.\n",
            "El termino: women aparece  91 veces en el conjunto negativo que en el positvo.\n",
            "El termino: make aparece  33 veces en el conjunto negativo que en el positvo.\n",
            "El termino: million aparece  142 veces en el conjunto negativo que en el positvo.\n",
            "El termino: year aparece  92 veces en el conjunto negativo que en el positvo.\n",
            "El termino: trump’s aparece  138 veces en el conjunto negativo que en el positvo.\n",
            "El termino: obama aparece  137 veces en el conjunto negativo que en el positvo.\n",
            "El termino: russia aparece  137 veces en el conjunto negativo que en el positvo.\n",
            "El termino: russian aparece  136 veces en el conjunto negativo que en el positvo.\n",
            "El termino: state aparece  135 veces en el conjunto negativo que en el positvo.\n",
            "El termino: top aparece  59 veces en el conjunto negativo que en el positvo.\n",
            "El termino: former aparece  134 veces en el conjunto negativo que en el positvo.\n",
            "El termino: dead aparece  133 veces en el conjunto negativo que en el positvo.\n",
            "El termino: bill aparece  132 veces en el conjunto negativo que en el positvo.\n",
            "El termino: court aparece  131 veces en el conjunto negativo que en el positvo.\n",
            "El termino: ban aparece  129 veces en el conjunto negativo que en el positvo.\n",
            "El termino: show aparece  94 veces en el conjunto negativo que en el positvo.\n",
            "El termino: found aparece  93 veces en el conjunto negativo que en el positvo.\n",
            "El termino: world aparece  41 veces en el conjunto negativo que en el positvo.\n",
            "El termino: china aparece  121 veces en el conjunto negativo que en el positvo.\n",
            "El termino: – aparece  87 veces en el conjunto negativo que en el positvo.\n",
            "El termino: death aparece  117 veces en el conjunto negativo que en el positvo.\n",
            "El termino: life aparece  68 veces en el conjunto negativo que en el positvo.\n",
            "El termino: home aparece  115 veces en el conjunto negativo que en el positvo.\n",
            "El termino: live aparece  80 veces en el conjunto negativo que en el positvo.\n",
            "El termino: take aparece  65 veces en el conjunto negativo que en el positvo.\n",
            "El termino: last aparece  78 veces en el conjunto negativo que en el positvo.\n",
            "El termino: car aparece  108 veces en el conjunto negativo que en el positvo.\n",
            "El termino: reportedly aparece  108 veces en el conjunto negativo que en el positvo.\n",
            "El termino: shows aparece  108 veces en el conjunto negativo que en el positvo.\n",
            "El termino: — aparece  60 veces en el conjunto negativo que en el positvo.\n",
            "El termino: health aparece  108 veces en el conjunto negativo que en el positvo.\n",
            "El termino: next aparece  78 veces en el conjunto negativo que en el positvo.\n",
            "El termino: john aparece  107 veces en el conjunto negativo que en el positvo.\n",
            "El termino: news aparece  68 veces en el conjunto negativo que en el positvo.\n",
            "El termino: need aparece  5 veces en el conjunto negativo que en el positvo.\n",
            "El termino: would aparece  73 veces en el conjunto negativo que en el positvo.\n",
            "El termino: big aparece  74 veces en el conjunto negativo que en el positvo.\n",
            "El termino: look aparece  72 veces en el conjunto negativo que en el positvo.\n",
            "El termino: christmas aparece  52 veces en el conjunto negativo que en el positvo.\n",
            "El termino: set aparece  103 veces en el conjunto negativo que en el positvo.\n",
            "El termino: - aparece  58 veces en el conjunto negativo que en el positvo.\n",
            "El termino: | aparece  102 veces en el conjunto negativo que en el positvo.\n",
            "El termino: here's aparece  -47 veces en el conjunto negativo que en el positvo.\n",
            "El termino: election aparece  101 veces en el conjunto negativo que en el positvo.\n",
            "El termino: help aparece  57 veces en el conjunto negativo que en el positvo.\n",
            "El termino: south aparece  100 veces en el conjunto negativo que en el positvo.\n",
            "El termino: team aparece  100 veces en el conjunto negativo que en el positvo.\n",
            "El termino: city aparece  100 veces en el conjunto negativo que en el positvo.\n",
            "El termino: game aparece  99 veces en el conjunto negativo que en el positvo.\n",
            "El termino: twitter aparece  61 veces en el conjunto negativo que en el positvo.\n",
            "El termino: arrested aparece  99 veces en el conjunto negativo que en el positvo.\n",
            "El termino: least aparece  98 veces en el conjunto negativo que en el positvo.\n",
            "El termino: still aparece  96 veces en el conjunto negativo que en el positvo.\n",
            "El termino: know aparece  -29 veces en el conjunto negativo que en el positvo.\n",
            "El termino: way aparece  43 veces en el conjunto negativo que en el positvo.\n",
            "El termino: made aparece  49 veces en el conjunto negativo que en el positvo.\n",
            "El termino: week aparece  93 veces en el conjunto negativo que en el positvo.\n",
            "El termino: plans aparece  93 veces en el conjunto negativo que en el positvo.\n",
            "El termino: claims aparece  92 veces en el conjunto negativo que en el positvo.\n",
            "El termino: wants aparece  92 veces en el conjunto negativo que en el positvo.\n",
            "El termino: calls aparece  91 veces en el conjunto negativo que en el positvo.\n",
            "El termino: said aparece  91 veces en el conjunto negativo que en el positvo.\n",
            "El termino: deal aparece  91 veces en el conjunto negativo que en el positvo.\n",
            "El termino: 2016 aparece  13 veces en el conjunto negativo que en el positvo.\n",
            "El termino: government aparece  91 veces en el conjunto negativo que en el positvo.\n",
            "El termino: things aparece  -125 veces en el conjunto negativo que en el positvo.\n",
            "El termino: 10 aparece  -90 veces en el conjunto negativo que en el positvo.\n",
            "El termino: 5 aparece  -72 veces en el conjunto negativo que en el positvo.\n",
            "El termino: really aparece  -58 veces en el conjunto negativo que en el positvo.\n",
            "El termino: stories aparece  -55 veces en el conjunto negativo que en el positvo.\n",
            "El termino: 7 aparece  -54 veces en el conjunto negativo que en el positvo.\n",
            "El termino: here’s aparece  -51 veces en el conjunto negativo que en el positvo.\n",
            "El termino: see aparece  -50 veces en el conjunto negativo que en el positvo.\n",
            "El termino: ways aparece  -50 veces en el conjunto negativo que en el positvo.\n",
            "El termino: much aparece  -47 veces en el conjunto negativo que en el positvo.\n",
            "El termino: good aparece  -44 veces en el conjunto negativo que en el positvo.\n",
            "El termino: want aparece  -44 veces en el conjunto negativo que en el positvo.\n",
            "El termino: biggest aparece  -44 veces en el conjunto negativo que en el positvo.\n",
            "El termino: got aparece  -43 veces en el conjunto negativo que en el positvo.\n",
            "El termino: right aparece  -40 veces en el conjunto negativo que en el positvo.\n",
            "El termino: every aparece  -40 veces en el conjunto negativo que en el positvo.\n",
            "El termino: 19 aparece  -40 veces en el conjunto negativo que en el positvo.\n",
            "El termino: world's aparece  -40 veces en el conjunto negativo que en el positvo.\n",
            "El termino: find aparece  -39 veces en el conjunto negativo que en el positvo.\n",
            "El termino: work aparece  -39 veces en el conjunto negativo que en el positvo.\n",
            "El termino: even aparece  -39 veces en el conjunto negativo que en el positvo.\n",
            "El termino: think aparece  -38 veces en el conjunto negativo que en el positvo.\n",
            "El termino: sex aparece  -37 veces en el conjunto negativo que en el positvo.\n",
            "El termino: actually aparece  -37 veces en el conjunto negativo que en el positvo.\n",
            "El termino: #icymi: aparece  -37 veces en el conjunto negativo que en el positvo.\n",
            "El termino: end aparece  -36 veces en el conjunto negativo que en el positvo.\n",
            "El termino: photos aparece  -36 veces en el conjunto negativo que en el positvo.\n",
            "El termino: times aparece  -36 veces en el conjunto negativo que en el positvo.\n",
            "El termino: 17 aparece  -35 veces en el conjunto negativo que en el positvo.\n",
            "El termino: reveals aparece  -35 veces en el conjunto negativo que en el positvo.\n",
            "El termino: never aparece  -34 veces en el conjunto negativo que en el positvo.\n",
            "El termino: love aparece  -33 veces en el conjunto negativo que en el positvo.\n",
            "El termino: go aparece  -32 veces en el conjunto negativo que en el positvo.\n",
            "El termino: everything aparece  -32 veces en el conjunto negativo que en el positvo.\n",
            "El termino: tweets aparece  -32 veces en el conjunto negativo que en el positvo.\n",
            "El termino: pictures aparece  -31 veces en el conjunto negativo que en el positvo.\n",
            "El termino: without aparece  -31 veces en el conjunto negativo que en el positvo.\n",
            "El termino: tv aparece  -31 veces en el conjunto negativo que en el positvo.\n",
            "El termino: hilarious aparece  -31 veces en el conjunto negativo que en el positvo.\n",
            "El termino: going aparece  -30 veces en el conjunto negativo que en el positvo.\n",
            "El termino: start aparece  -30 veces en el conjunto negativo que en el positvo.\n",
            "El termino: internet aparece  -29 veces en el conjunto negativo que en el positvo.\n",
            "El termino: getting aparece  -29 veces en el conjunto negativo que en el positvo.\n",
            "El termino: real aparece  -29 veces en el conjunto negativo que en el positvo.\n"
          ]
        }
      ]
    },
    {
      "cell_type": "markdown",
      "source": [
        "La frecuencia de los terminos es un factor que se puede ver comprometido por el número de documentos de cada clase. En sentido destaca la frecuencia > 0 del termino Trump (trump+Trump). Una forma de segmentar estos valores es estudiando el sentimiento en el cual se contextualizan estas menciones. Por otro lado, indicando frecuencias < 0 una presencia sobretodo en la clase \"clickbait\", destacan propias de anuncios: \"sex\", \"love\", \"biggest\"."
      ],
      "metadata": {
        "id": "MbrTepNE4bqc"
      },
      "id": "MbrTepNE4bqc"
    },
    {
      "cell_type": "code",
      "source": [
        "import collections\n",
        "def ngrams(text, n=2):\n",
        "     return zip(*[text[i:] for i in range(n)])\n",
        "ngram_counts_neg = collections.Counter(ngrams(\" \".join(df_train.loc[df_train.truthClass != \"clickbait\", \"postText\"]).lower().split(), 3)).most_common(100)\n",
        "ngram_counts_post = collections.Counter(ngrams(\" \".join(df_train.loc[df_train.truthClass == \"clickbait\", \"postText\"]).lower().split(), 3)).most_common(100)"
      ],
      "metadata": {
        "id": "UAJxbzcA4KEB"
      },
      "id": "UAJxbzcA4KEB",
      "execution_count": 81,
      "outputs": []
    },
    {
      "cell_type": "code",
      "source": [
        "most_frequent_ngrams = {\" \".join(terms):y\n",
        "    for terms, y in ngram_counts_neg\n",
        "}\n",
        "for x, y in ngram_counts_post:\n",
        "  most_frequent_ngrams[\" \".join(x)] = most_frequent_ngrams.get(\" \".join(x), 0)-y"
      ],
      "metadata": {
        "id": "xVAn2lmp7iDh"
      },
      "id": "xVAn2lmp7iDh",
      "execution_count": 82,
      "outputs": []
    },
    {
      "cell_type": "code",
      "source": [
        "most_frequent_ngrams = {k: v for k, v in sorted(most_frequent_ngrams.items(), key=lambda item: item[1])}"
      ],
      "metadata": {
        "id": "P9Z8Inak9nXy"
      },
      "id": "P9Z8Inak9nXy",
      "execution_count": 84,
      "outputs": []
    },
    {
      "cell_type": "code",
      "source": [
        "for x in most_frequent_ngrams:\n",
        "  print(\"El termino:\", x, \"aparece \", most_frequent_ngrams[x], \"veces en el conjunto negativo que en el positvo.\")"
      ],
      "metadata": {
        "colab": {
          "base_uri": "https://localhost:8080/"
        },
        "id": "6KURXYQB7rSI",
        "outputId": "3ba40907-b7a7-4b1a-e669-1d1254b2a758"
      },
      "id": "6KURXYQB7rSI",
      "execution_count": 85,
      "outputs": [
        {
          "output_type": "stream",
          "name": "stdout",
          "text": [
            "El termino: you need to aparece  -36 veces en el conjunto negativo que en el positvo.\n",
            "El termino: from the day aparece  -28 veces en el conjunto negativo que en el positvo.\n",
            "El termino: stories from the aparece  -25 veces en el conjunto negativo que en el positvo.\n",
            "El termino: these are the aparece  -24 veces en el conjunto negativo que en el positvo.\n",
            "El termino: need to know aparece  -20 veces en el conjunto negativo que en el positvo.\n",
            "El termino: of the most aparece  -19 veces en el conjunto negativo que en el positvo.\n",
            "El termino: briefing: here's what aparece  -18 veces en el conjunto negativo que en el positvo.\n",
            "El termino: #entertainment stories from aparece  -17 veces en el conjunto negativo que en el positvo.\n",
            "El termino: will make you aparece  -17 veces en el conjunto negativo que en el positvo.\n",
            "El termino: #news stories from aparece  -16 veces en el conjunto negativo que en el positvo.\n",
            "El termino: know about the aparece  -15 veces en el conjunto negativo que en el positvo.\n",
            "El termino: top #entertainment stories aparece  -14 veces en el conjunto negativo que en el positvo.\n",
            "El termino: that will make aparece  -14 veces en el conjunto negativo que en el positvo.\n",
            "El termino: this is how aparece  -14 veces en el conjunto negativo que en el positvo.\n",
            "El termino: the day that aparece  -14 veces en el conjunto negativo que en el positvo.\n",
            "El termino: day that was aparece  -14 veces en el conjunto negativo que en el positvo.\n",
            "El termino: top #news stories aparece  -13 veces en el conjunto negativo que en el positvo.\n",
            "El termino: end of the aparece  -13 veces en el conjunto negativo que en el positvo.\n",
            "El termino: this is what aparece  -12 veces en el conjunto negativo que en el positvo.\n",
            "El termino: at the end aparece  -12 veces en el conjunto negativo que en el positvo.\n",
            "El termino: start your day aparece  -12 veces en el conjunto negativo que en el positvo.\n",
            "El termino: how to make aparece  -12 veces en el conjunto negativo que en el positvo.\n",
            "El termino: what you need aparece  -11 veces en el conjunto negativo que en el positvo.\n",
            "El termino: to know about aparece  -10 veces en el conjunto negativo que en el positvo.\n",
            "El termino: here's what you aparece  -10 veces en el conjunto negativo que en el positvo.\n",
            "El termino: are the best aparece  -10 veces en el conjunto negativo que en el positvo.\n",
            "El termino: why you should aparece  -10 veces en el conjunto negativo que en el positvo.\n",
            "El termino: things you need aparece  -10 veces en el conjunto negativo que en el positvo.\n",
            "El termino: this is why aparece  -10 veces en el conjunto negativo que en el positvo.\n",
            "El termino: know at the aparece  -10 veces en el conjunto negativo que en el positvo.\n",
            "El termino: of the day aparece  -10 veces en el conjunto negativo que en el positvo.\n",
            "El termino: to know to aparece  -10 veces en el conjunto negativo que en el positvo.\n",
            "El termino: know to start aparece  -10 veces en el conjunto negativo que en el positvo.\n",
            "El termino: to start your aparece  -10 veces en el conjunto negativo que en el positvo.\n",
            "El termino: in the world aparece  -9 veces en el conjunto negativo que en el positvo.\n",
            "El termino: the end of aparece  -9 veces en el conjunto negativo que en el positvo.\n",
            "El termino: of all time aparece  -9 veces en el conjunto negativo que en el positvo.\n",
            "El termino: to help you aparece  -9 veces en el conjunto negativo que en el positvo.\n",
            "El termino: evening briefing: here's aparece  -9 veces en el conjunto negativo que en el positvo.\n",
            "El termino: to know at aparece  -9 veces en el conjunto negativo que en el positvo.\n",
            "El termino: to know before aparece  -9 veces en el conjunto negativo que en el positvo.\n",
            "El termino: morning briefing: here's aparece  -9 veces en el conjunto negativo que en el positvo.\n",
            "El termino: here's how to aparece  -8 veces en el conjunto negativo que en el positvo.\n",
            "El termino: how to get aparece  -8 veces en el conjunto negativo que en el positvo.\n",
            "El termino: here are some aparece  -8 veces en el conjunto negativo que en el positvo.\n",
            "El termino: are the most aparece  -8 veces en el conjunto negativo que en el positvo.\n",
            "El termino: that’ll make you aparece  -8 veces en el conjunto negativo que en el positvo.\n",
            "El termino: the secret to aparece  -8 veces en el conjunto negativo que en el positvo.\n",
            "El termino: 10 things you aparece  -8 veces en el conjunto negativo que en el positvo.\n",
            "El termino: know before the aparece  -8 veces en el conjunto negativo que en el positvo.\n",
            "El termino: before the opening aparece  -8 veces en el conjunto negativo que en el positvo.\n",
            "El termino: the opening bell aparece  -8 veces en el conjunto negativo que en el positvo.\n",
            "El termino: what happens when aparece  -8 veces en el conjunto negativo que en el positvo.\n",
            "El termino: pictures that will aparece  -7 veces en el conjunto negativo que en el positvo.\n",
            "El termino: stories from today! aparece  -7 veces en el conjunto negativo que en el positvo.\n",
            "El termino: the most powerful aparece  -7 veces en el conjunto negativo que en el positvo.\n",
            "El termino: you should be aparece  -7 veces en el conjunto negativo que en el positvo.\n",
            "El termino: to make a aparece  -7 veces en el conjunto negativo que en el positvo.\n",
            "El termino: here's what to aparece  -7 veces en el conjunto negativo que en el positvo.\n",
            "El termino: this is the aparece  -6 veces en el conjunto negativo que en el positvo.\n",
            "El termino: the top 10 aparece  -6 veces en el conjunto negativo que en el positvo.\n",
            "El termino: the way you aparece  -6 veces en el conjunto negativo que en el positvo.\n",
            "El termino: to find out aparece  -6 veces en el conjunto negativo que en el positvo.\n",
            "El termino: what you can aparece  -6 veces en el conjunto negativo que en el positvo.\n",
            "El termino: make you say aparece  -6 veces en el conjunto negativo que en el positvo.\n",
            "El termino: #icymi: top #news aparece  -6 veces en el conjunto negativo que en el positvo.\n",
            "El termino: on the internet aparece  -6 veces en el conjunto negativo que en el positvo.\n",
            "El termino: you may have aparece  -6 veces en el conjunto negativo que en el positvo.\n",
            "El termino: of the world aparece  -6 veces en el conjunto negativo que en el positvo.\n",
            "El termino: for people who aparece  -6 veces en el conjunto negativo que en el positvo.\n",
            "El termino: some of the aparece  -6 veces en el conjunto negativo que en el positvo.\n",
            "El termino: is the most aparece  -6 veces en el conjunto negativo que en el positvo.\n",
            "El termino: change the way aparece  -5 veces en el conjunto negativo que en el positvo.\n",
            "El termino: a roundup of aparece  -5 veces en el conjunto negativo que en el positvo.\n",
            "El termino: all the best aparece  -5 veces en el conjunto negativo que en el positvo.\n",
            "El termino: the best deals aparece  -5 veces en el conjunto negativo que en el positvo.\n",
            "El termino: best deals on aparece  -5 veces en el conjunto negativo que en el positvo.\n",
            "El termino: and people are aparece  -5 veces en el conjunto negativo que en el positvo.\n",
            "El termino: what to expect aparece  -5 veces en el conjunto negativo que en el positvo.\n",
            "El termino: how to avoid aparece  -5 veces en el conjunto negativo que en el positvo.\n",
            "El termino: video of a aparece  -5 veces en el conjunto negativo que en el positvo.\n",
            "El termino: the super bowl aparece  -5 veces en el conjunto negativo que en el positvo.\n",
            "El termino: what to do aparece  -5 veces en el conjunto negativo que en el positvo.\n",
            "El termino: happens when you aparece  -5 veces en el conjunto negativo que en el positvo.\n",
            "El termino: you can do aparece  -5 veces en el conjunto negativo que en el positvo.\n",
            "El termino: everything you need aparece  -4 veces en el conjunto negativo que en el positvo.\n",
            "El termino: here are the aparece  -4 veces en el conjunto negativo que en el positvo.\n",
            "El termino: of the best aparece  -1 veces en el conjunto negativo que en el positvo.\n",
            "El termino: be able to aparece  1 veces en el conjunto negativo que en el positvo.\n",
            "El termino: around the world aparece  2 veces en el conjunto negativo que en el positvo.\n",
            "El termino: the world's most aparece  3 veces en el conjunto negativo que en el positvo.\n",
            "El termino: is going to aparece  5 veces en el conjunto negativo que en el positvo.\n",
            "El termino: a lot of aparece  6 veces en el conjunto negativo que en el positvo.\n",
            "El termino: rest of the aparece  8 veces en el conjunto negativo que en el positvo.\n",
            "El termino: national security adviser aparece  8 veces en el conjunto negativo que en el positvo.\n",
            "El termino: gop health care aparece  8 veces en el conjunto negativo que en el positvo.\n",
            "El termino: to the u.s. aparece  8 veces en el conjunto negativo que en el positvo.\n",
            "El termino: part of the aparece  8 veces en el conjunto negativo que en el positvo.\n",
            "El termino: pays tribute to aparece  8 veces en el conjunto negativo que en el positvo.\n",
            "El termino: trump's immigration order aparece  8 veces en el conjunto negativo que en el positvo.\n",
            "El termino: secretary sean spicer aparece  8 veces en el conjunto negativo que en el positvo.\n",
            "El termino: ➡️ by @lee_moran aparece  8 veces en el conjunto negativo que en el positvo.\n",
            "El termino: donald trump's inauguration aparece  8 veces en el conjunto negativo que en el positvo.\n",
            "El termino: donald trump and aparece  8 veces en el conjunto negativo que en el positvo.\n",
            "El termino: revised travel ban aparece  8 veces en el conjunto negativo que en el positvo.\n",
            "El termino: – live! via aparece  8 veces en el conjunto negativo que en el positvo.\n",
            "El termino: in the us aparece  9 veces en el conjunto negativo que en el positvo.\n",
            "El termino: the rest of aparece  9 veces en el conjunto negativo que en el positvo.\n",
            "El termino: on social media aparece  9 veces en el conjunto negativo que en el positvo.\n",
            "El termino: national security council aparece  9 veces en el conjunto negativo que en el positvo.\n",
            "El termino: when it comes aparece  9 veces en el conjunto negativo que en el positvo.\n",
            "El termino: it comes to aparece  9 veces en el conjunto negativo que en el positvo.\n",
            "El termino: in front of aparece  9 veces en el conjunto negativo que en el positvo.\n",
            "El termino: says it will aparece  9 veces en el conjunto negativo que en el positvo.\n",
            "El termino: donald trump says aparece  9 veces en el conjunto negativo que en el positvo.\n",
            "El termino: house press secretary aparece  9 veces en el conjunto negativo que en el positvo.\n",
            "El termino: may be the aparece  9 veces en el conjunto negativo que en el positvo.\n",
            "El termino: the start of aparece  9 veces en el conjunto negativo que en el positvo.\n",
            "El termino: berlin truck attack aparece  9 veces en el conjunto negativo que en el positvo.\n",
            "El termino: ⏩ by @lee_moran aparece  9 veces en el conjunto negativo que en el positvo.\n",
            "El termino: man accused of aparece  9 veces en el conjunto negativo que en el positvo.\n",
            "El termino: george w. bush aparece  9 veces en el conjunto negativo que en el positvo.\n",
            "El termino: the man who aparece  9 veces en el conjunto negativo que en el positvo.\n",
            "El termino: more than 100 aparece  9 veces en el conjunto negativo que en el positvo.\n",
            "El termino: the new york aparece  10 veces en el conjunto negativo que en el positvo.\n",
            "El termino: opens up about aparece  10 veces en el conjunto negativo que en el positvo.\n",
            "El termino: donald trump has aparece  10 veces en el conjunto negativo que en el positvo.\n",
            "El termino: more likely to aparece  10 veces en el conjunto negativo que en el positvo.\n",
            "El termino: press secretary sean aparece  10 veces en el conjunto negativo que en el positvo.\n",
            "El termino: a look back aparece  10 veces en el conjunto negativo que en el positvo.\n",
            "El termino: affordable care act aparece  10 veces en el conjunto negativo que en el positvo.\n",
            "El termino: supreme court nominee aparece  10 veces en el conjunto negativo que en el positvo.\n",
            "El termino: the death of aparece  10 veces en el conjunto negativo que en el positvo.\n",
            "El termino: first time in aparece  10 veces en el conjunto negativo que en el positvo.\n",
            "El termino: in new york aparece  10 veces en el conjunto negativo que en el positvo.\n",
            "El termino: is about to aparece  11 veces en el conjunto negativo que en el positvo.\n",
            "El termino: the guardian view aparece  11 veces en el conjunto negativo que en el positvo.\n",
            "El termino: guardian view on aparece  11 veces en el conjunto negativo que en el positvo.\n",
            "El termino: new year's eve aparece  11 veces en el conjunto negativo que en el positvo.\n",
            "El termino: kills at least aparece  11 veces en el conjunto negativo que en el positvo.\n",
            "El termino: look back at aparece  11 veces en el conjunto negativo que en el positvo.\n",
            "El termino: to be the aparece  11 veces en el conjunto negativo que en el positvo.\n",
            "El termino: trump says he aparece  11 veces en el conjunto negativo que en el positvo.\n",
            "El termino: found dead in aparece  11 veces en el conjunto negativo que en el positvo.\n",
            "El termino: trump's travel ban aparece  12 veces en el conjunto negativo que en el positvo.\n",
            "El termino: donald trump to aparece  12 veces en el conjunto negativo que en el positvo.\n",
            "El termino: at the 2017 aparece  12 veces en el conjunto negativo que en el positvo.\n",
            "El termino: is expected to aparece  12 veces en el conjunto negativo que en el positvo.\n",
            "El termino: the united states aparece  12 veces en el conjunto negativo que en el positvo.\n",
            "El termino: is on the aparece  13 veces en el conjunto negativo que en el positvo.\n",
            "El termino: health care bill aparece  13 veces en el conjunto negativo que en el positvo.\n",
            "El termino: to perform at aparece  13 veces en el conjunto negativo que en el positvo.\n",
            "El termino: secretary of state aparece  13 veces en el conjunto negativo que en el positvo.\n",
            "El termino: of the year aparece  14 veces en el conjunto negativo que en el positvo.\n",
            "El termino: to be a aparece  14 veces en el conjunto negativo que en el positvo.\n",
            "El termino: is set to aparece  14 veces en el conjunto negativo que en el positvo.\n",
            "El termino: has died at aparece  14 veces en el conjunto negativo que en el positvo.\n",
            "El termino: a look at aparece  15 veces en el conjunto negativo que en el positvo.\n",
            "El termino: could be the aparece  15 veces en el conjunto negativo que en el positvo.\n",
            "El termino: quote of the aparece  15 veces en el conjunto negativo que en el positvo.\n",
            "El termino: a new study aparece  15 veces en el conjunto negativo que en el positvo.\n",
            "El termino: of the day: aparece  16 veces en el conjunto negativo que en el positvo.\n",
            "El termino: new york city aparece  16 veces en el conjunto negativo que en el positvo.\n",
            "El termino: no. 1 on aparece  16 veces en el conjunto negativo que en el positvo.\n",
            "El termino: white house press aparece  16 veces en el conjunto negativo que en el positvo.\n",
            "El termino: out of the aparece  16 veces en el conjunto negativo que en el positvo.\n",
            "El termino: for the first aparece  18 veces en el conjunto negativo que en el positvo.\n",
            "El termino: the first time aparece  18 veces en el conjunto negativo que en el positvo.\n",
            "El termino: donald trump is aparece  18 veces en el conjunto negativo que en el positvo.\n",
            "El termino: the white house aparece  19 veces en el conjunto negativo que en el positvo.\n",
            "El termino: the trump administration aparece  19 veces en el conjunto negativo que en el positvo.\n",
            "El termino: one of the aparece  20 veces en el conjunto negativo que en el positvo.\n",
            "El termino: marine le pen aparece  20 veces en el conjunto negativo que en el positvo.\n",
            "El termino: in the u.s. aparece  21 veces en el conjunto negativo que en el positvo.\n",
            "El termino: look at the aparece  22 veces en el conjunto negativo que en el positvo.\n"
          ]
        }
      ]
    },
    {
      "cell_type": "markdown",
      "source": [
        "Extendiendo el analisis de unigramas a trigramas, podemos observar que la clase \"clickbait\" concentra mensajes como \"you need to\", \"will make you\"... que asemejan mas a lo que cabría esperar de esta clase. Sobretodo por que son mensajes explicitamente dirigidos hacia el lector."
      ],
      "metadata": {
        "id": "WuJIubXg95JP"
      },
      "id": "WuJIubXg95JP"
    },
    {
      "cell_type": "markdown",
      "source": [
        "### Sentiment Analysis"
      ],
      "metadata": {
        "id": "bnXRrLSKA741"
      },
      "id": "bnXRrLSKA741"
    },
    {
      "cell_type": "code",
      "source": [
        "from textblob import TextBlob"
      ],
      "metadata": {
        "id": "oAYt8Tqw7w9i"
      },
      "id": "oAYt8Tqw7w9i",
      "execution_count": 87,
      "outputs": []
    },
    {
      "cell_type": "code",
      "source": [
        "polarity_neg = []\n",
        "subjectivity_neg = []\n",
        "for instance in df_train.loc[df_train.truthClass != \"clickbait\", \"postText\"]:\n",
        "  s = TextBlob(instance).sentiment\n",
        "  polarity_neg.append(s.polarity)\n",
        "  subjectivity_neg.append(s.subjectivity)\n",
        "polarity_pos = []\n",
        "subjectivity_pos = []\n",
        "for instance in df_train.loc[df_train.truthClass == \"clickbait\", \"postText\"]:\n",
        "  s = TextBlob(instance).sentiment\n",
        "  polarity_pos.append(s.polarity)\n",
        "  subjectivity_pos.append(s.subjectivity)"
      ],
      "metadata": {
        "id": "ajWhOUsy-7vm"
      },
      "id": "ajWhOUsy-7vm",
      "execution_count": 95,
      "outputs": []
    },
    {
      "cell_type": "code",
      "source": [
        "print(\"Polarity analysis\")\n",
        "print(\"===============================\")\n",
        "print(\"Average Polarity scores NEGATIVE CLASS:\", sum(polarity_neg)/len(polarity_neg))\n",
        "print(\"Avergage Polarity scores POSITIVE CLASS:\", sum(polarity_pos)/len(polarity_pos))\n",
        "print(\"Min Polarity scores NEGATIVE CLASS:\", min(polarity_neg))\n",
        "print(\"Min Polarity scores POSITIVE CLASS:\", min(polarity_pos))\n",
        "print(\"Max Polarity scores NEGATIVE CLASS:\", max(polarity_neg))\n",
        "print(\"Max Polarity scores POSITIVE CLASS:\", max(polarity_pos))\n",
        "print(\"\\n\\n\")\n",
        "print(\"Subjectivity analysis\")\n",
        "print(\"===============================\")\n",
        "print(\"Average Subjectivity scores NEGATIVE CLASS:\", sum(subjectivity_neg)/len(subjectivity_neg))\n",
        "print(\"Avergage Subjectivity scores POSITIVE CLASS:\", sum(subjectivity_pos)/len(subjectivity_pos))\n",
        "print(\"Min Subjectivity scores NEGATIVE CLASS:\", min(subjectivity_neg))\n",
        "print(\"Min Subjectivity scores POSITIVE CLASS:\", min(subjectivity_pos))\n",
        "print(\"Max Subjectivity scores NEGATIVE CLASS:\", max(subjectivity_neg))\n",
        "print(\"Max Subjectivity scores POSITIVE CLASS:\", max(subjectivity_pos))"
      ],
      "metadata": {
        "colab": {
          "base_uri": "https://localhost:8080/"
        },
        "id": "hXLVS-0d_bYO",
        "outputId": "7ac7b773-fcf2-4469-eb21-c084260b1b8f"
      },
      "id": "hXLVS-0d_bYO",
      "execution_count": 96,
      "outputs": [
        {
          "output_type": "stream",
          "name": "stdout",
          "text": [
            "Polarity analysis\n",
            "===============================\n",
            "Average Polarity scores NEGATIVE CLASS: 0.04885960892821125\n",
            "Avergage Polarity scores POSITIVE CLASS: 0.09154955352984637\n",
            "Min Polarity scores NEGATIVE CLASS: -1.0\n",
            "Min Polarity scores POSITIVE CLASS: -1.0\n",
            "Max Polarity scores NEGATIVE CLASS: 1.0\n",
            "Max Polarity scores POSITIVE CLASS: 1.0\n",
            "\n",
            "\n",
            "\n",
            "Subjectivity analysis\n",
            "===============================\n",
            "Average Subjectivity scores NEGATIVE CLASS: 0.2648735186161555\n",
            "Avergage Subjectivity scores POSITIVE CLASS: 0.3246519286638034\n",
            "Min Subjectivity scores NEGATIVE CLASS: 0.0\n",
            "Min Subjectivity scores POSITIVE CLASS: 0.0\n",
            "Max Subjectivity scores NEGATIVE CLASS: 1.0\n",
            "Max Subjectivity scores POSITIVE CLASS: 1.0\n"
          ]
        }
      ]
    },
    {
      "cell_type": "markdown",
      "source": [
        "Ambas clases tienden a usar estructuras neutras en cuanto a un analisis de sentimiento (basico). Destaca la feature Subjectivity, aunque no en gran medida."
      ],
      "metadata": {
        "id": "9-mrbBEJBD2q"
      },
      "id": "9-mrbBEJBD2q"
    },
    {
      "cell_type": "code",
      "source": [
        ""
      ],
      "metadata": {
        "id": "eK7_CiUg_eHm"
      },
      "id": "eK7_CiUg_eHm",
      "execution_count": null,
      "outputs": []
    }
  ],
  "metadata": {
    "accelerator": "GPU",
    "colab": {
      "collapsed_sections": [],
      "name": "Data analysis.ipynb",
      "provenance": []
    },
    "kernelspec": {
      "display_name": "Python 3",
      "language": "python",
      "name": "python3"
    },
    "language_info": {
      "codemirror_mode": {
        "name": "ipython",
        "version": 3
      },
      "file_extension": ".py",
      "mimetype": "text/x-python",
      "name": "python",
      "nbconvert_exporter": "python",
      "pygments_lexer": "ipython3",
      "version": "3.8.0"
    }
  },
  "nbformat": 4,
  "nbformat_minor": 5
}