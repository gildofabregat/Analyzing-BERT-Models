{
  "cells": [
    {
      "cell_type": "code",
      "execution_count": null,
      "metadata": {
        "colab": {
          "base_uri": "https://localhost:8080/"
        },
        "id": "gorgeous-karma",
        "outputId": "0fb32e8d-8599-4f33-8c2b-0703ff3c785c"
      },
      "outputs": [
        {
          "name": "stdout",
          "output_type": "stream",
          "text": [
            "Requirement already satisfied: transformers in /usr/local/lib/python3.7/dist-packages (4.18.0)\n",
            "Requirement already satisfied: packaging>=20.0 in /usr/local/lib/python3.7/dist-packages (from transformers) (21.3)\n",
            "Requirement already satisfied: huggingface-hub<1.0,>=0.1.0 in /usr/local/lib/python3.7/dist-packages (from transformers) (0.5.1)\n",
            "Requirement already satisfied: pyyaml>=5.1 in /usr/local/lib/python3.7/dist-packages (from transformers) (6.0)\n",
            "Requirement already satisfied: tokenizers!=0.11.3,<0.13,>=0.11.1 in /usr/local/lib/python3.7/dist-packages (from transformers) (0.11.6)\n",
            "Requirement already satisfied: requests in /usr/local/lib/python3.7/dist-packages (from transformers) (2.23.0)\n",
            "Requirement already satisfied: regex!=2019.12.17 in /usr/local/lib/python3.7/dist-packages (from transformers) (2019.12.20)\n",
            "Requirement already satisfied: importlib-metadata in /usr/local/lib/python3.7/dist-packages (from transformers) (4.11.3)\n",
            "Requirement already satisfied: numpy>=1.17 in /usr/local/lib/python3.7/dist-packages (from transformers) (1.21.5)\n",
            "Requirement already satisfied: filelock in /usr/local/lib/python3.7/dist-packages (from transformers) (3.6.0)\n",
            "Requirement already satisfied: tqdm>=4.27 in /usr/local/lib/python3.7/dist-packages (from transformers) (4.63.0)\n",
            "Requirement already satisfied: sacremoses in /usr/local/lib/python3.7/dist-packages (from transformers) (0.0.49)\n",
            "Requirement already satisfied: typing-extensions>=3.7.4.3 in /usr/local/lib/python3.7/dist-packages (from huggingface-hub<1.0,>=0.1.0->transformers) (3.10.0.2)\n",
            "Requirement already satisfied: pyparsing!=3.0.5,>=2.0.2 in /usr/local/lib/python3.7/dist-packages (from packaging>=20.0->transformers) (3.0.7)\n",
            "Requirement already satisfied: zipp>=0.5 in /usr/local/lib/python3.7/dist-packages (from importlib-metadata->transformers) (3.7.0)\n",
            "Requirement already satisfied: urllib3!=1.25.0,!=1.25.1,<1.26,>=1.21.1 in /usr/local/lib/python3.7/dist-packages (from requests->transformers) (1.24.3)\n",
            "Requirement already satisfied: certifi>=2017.4.17 in /usr/local/lib/python3.7/dist-packages (from requests->transformers) (2021.10.8)\n",
            "Requirement already satisfied: chardet<4,>=3.0.2 in /usr/local/lib/python3.7/dist-packages (from requests->transformers) (3.0.4)\n",
            "Requirement already satisfied: idna<3,>=2.5 in /usr/local/lib/python3.7/dist-packages (from requests->transformers) (2.10)\n",
            "Requirement already satisfied: click in /usr/local/lib/python3.7/dist-packages (from sacremoses->transformers) (7.1.2)\n",
            "Requirement already satisfied: six in /usr/local/lib/python3.7/dist-packages (from sacremoses->transformers) (1.15.0)\n",
            "Requirement already satisfied: joblib in /usr/local/lib/python3.7/dist-packages (from sacremoses->transformers) (1.1.0)\n",
            "Requirement already satisfied: torch in /usr/local/lib/python3.7/dist-packages (1.10.0+cu111)\n",
            "Requirement already satisfied: typing-extensions in /usr/local/lib/python3.7/dist-packages (from torch) (3.10.0.2)\n",
            "Requirement already satisfied: sklearn in /usr/local/lib/python3.7/dist-packages (0.0)\n",
            "Requirement already satisfied: scikit-learn in /usr/local/lib/python3.7/dist-packages (from sklearn) (1.0.2)\n",
            "Requirement already satisfied: joblib>=0.11 in /usr/local/lib/python3.7/dist-packages (from scikit-learn->sklearn) (1.1.0)\n",
            "Requirement already satisfied: threadpoolctl>=2.0.0 in /usr/local/lib/python3.7/dist-packages (from scikit-learn->sklearn) (3.1.0)\n",
            "Requirement already satisfied: scipy>=1.1.0 in /usr/local/lib/python3.7/dist-packages (from scikit-learn->sklearn) (1.4.1)\n",
            "Requirement already satisfied: numpy>=1.14.6 in /usr/local/lib/python3.7/dist-packages (from scikit-learn->sklearn) (1.21.5)\n",
            "Requirement already satisfied: wget in /usr/local/lib/python3.7/dist-packages (3.2)\n"
          ]
        }
      ],
      "source": [
        "!pip install transformers\n",
        "!pip install torch\n",
        "!pip install sklearn\n",
        "!pip install wget"
      ],
      "id": "gorgeous-karma"
    },
    {
      "cell_type": "code",
      "execution_count": null,
      "metadata": {
        "id": "oyI3LnRGu2Mb"
      },
      "outputs": [],
      "source": [
        "from transformers import AdamW, CanineConfig\n",
        "from transformers import CanineModel, AutoModelForSequenceClassification, CanineTokenizer\n",
        "from torch.utils.data import DataLoader, RandomSampler, SequentialSampler, TensorDataset\n",
        "from sklearn.metrics import precision_recall_fscore_support\n",
        "from sklearn.model_selection import train_test_split\n",
        "import matplotlib.pyplot as plt\n",
        "%matplotlib inline\n",
        "import seaborn as sns\n",
        "import pandas as pd, numpy as np\n",
        "import random, torch, wget, os\n",
        "from tqdm import tqdm"
      ],
      "id": "oyI3LnRGu2Mb"
    },
    {
      "cell_type": "code",
      "execution_count": null,
      "metadata": {
        "colab": {
          "base_uri": "https://localhost:8080/"
        },
        "id": "international-custom",
        "outputId": "5765eee2-6a18-4e91-abb8-fe273aa4a1e3"
      },
      "outputs": [
        {
          "name": "stdout",
          "output_type": "stream",
          "text": [
            "There are 1 GPU(s) available.\n",
            "We will use the GPU: Tesla K80\n"
          ]
        }
      ],
      "source": [
        "pd.set_option('precision', 2)\n",
        "\n",
        "local = False\n",
        "gpu = True\n",
        "epochs = 4\n",
        "batch_size = 32\n",
        "\n",
        "# If there's a GPU available...\n",
        "if torch.cuda.is_available() and not local:\n",
        "    # Tell PyTorch to use the GPU.    \n",
        "    device = torch.device(\"cuda\")\n",
        "\n",
        "    print('There are %d GPU(s) available.' % torch.cuda.device_count())\n",
        "\n",
        "    print('We will use the GPU:', torch.cuda.get_device_name(0))\n",
        "\n",
        "# If not...\n",
        "else:\n",
        "    print('No GPU available, using the CPU instead.')\n",
        "    device = torch.device(\"cpu\")"
      ],
      "id": "international-custom"
    },
    {
      "cell_type": "markdown",
      "metadata": {
        "id": "overhead-priority"
      },
      "source": [
        "### Dowloading dataset"
      ],
      "id": "overhead-priority"
    },
    {
      "cell_type": "code",
      "execution_count": null,
      "metadata": {
        "colab": {
          "base_uri": "https://localhost:8080/",
          "height": 53
        },
        "id": "instrumental-mills",
        "outputId": "4d7dbf20-7582-4287-b6ae-a3a1ff316311"
      },
      "outputs": [
        {
          "name": "stdout",
          "output_type": "stream",
          "text": [
            "Requirement already satisfied: wget in /usr/local/lib/python3.7/dist-packages (3.2)\n"
          ]
        },
        {
          "data": {
            "application/vnd.google.colaboratory.intrinsic+json": {
              "type": "string"
            },
            "text/plain": [
              "'./webis_test.csv'"
            ]
          },
          "execution_count": 8,
          "metadata": {},
          "output_type": "execute_result"
        }
      ],
      "source": [
        "wget.download(\"https://ml-coding-test.s3.eu-west-1.amazonaws.com/webis_train.csv\", './webis_train.csv')\n",
        "wget.download(\"https://ml-coding-test.s3.eu-west-1.amazonaws.com/webis_test.csv\", './webis_test.csv')"
      ],
      "id": "instrumental-mills"
    },
    {
      "cell_type": "markdown",
      "metadata": {
        "id": "fewer-assets"
      },
      "source": [
        "### Reading dataset and splitting training data"
      ],
      "id": "fewer-assets"
    },
    {
      "cell_type": "code",
      "execution_count": null,
      "metadata": {
        "colab": {
          "base_uri": "https://localhost:8080/"
        },
        "id": "according-findings",
        "outputId": "cef376b9-3e69-41d2-c8eb-10880a7357f0"
      },
      "outputs": [
        {
          "name": "stdout",
          "output_type": "stream",
          "text": [
            "Number of training sentences: 17,535\n",
            "\n",
            "Number of validation sentences: 1,949\n",
            "\n",
            "Number of test sentences: 18,913\n",
            "\n",
            "Max length: 124\n",
            "\n"
          ]
        }
      ],
      "source": [
        "def cast_labels(data: pd.core.series.Series):\n",
        "    data[data==\"no-clickbait\"] = 0\n",
        "    data[data==\"clickbait\"] = 1\n",
        "    return data\n",
        "\n",
        "df = pd.read_csv(\"webis_train.csv\", delimiter=',', header=0)\n",
        "# Removing nan values to simplify training process / I will only use postText to classify each instance\n",
        "df = df[[\"postText\", \"truthClass\"]].dropna()\n",
        "training_sentences = df.postText\n",
        "training_labels = cast_labels(df.truthClass)\n",
        "\n",
        "training_sentences, validation_sentences, training_labels, validation_labels = train_test_split(training_sentences, \n",
        "                                                                                                training_labels, test_size=0.1, random_state=42, stratify=training_labels)\n",
        "\n",
        "df = pd.read_csv(\"webis_test.csv\", delimiter=',', header=0)\n",
        "# Removing nan values to simplify training process / I will only use postText to classify each instance\n",
        "df = df[[\"postText\", \"truthClass\"]].dropna()\n",
        "test_sentences = df.postText\n",
        "test_labels = cast_labels(df.truthClass)\n",
        "\n",
        "del df\n",
        "print('Number of training sentences: {:,}\\n'.format(training_sentences.shape[0]))\n",
        "print('Number of validation sentences: {:,}\\n'.format(validation_sentences.shape[0]))\n",
        "print('Number of test sentences: {:,}\\n'.format(test_sentences.shape[0]))\n",
        "len_sx = lambda x:len(x.split(\" \"))\n",
        "max_length = max([max(map(len, training_sentences)), max(map(len, validation_sentences)), max(map(len, test_sentences))])\n",
        "print('Max length: {:,}\\n'.format(max_length))\n",
        "max_length=200"
      ],
      "id": "according-findings"
    },
    {
      "cell_type": "code",
      "execution_count": null,
      "metadata": {
        "colab": {
          "base_uri": "https://localhost:8080/"
        },
        "id": "focused-snowboard",
        "outputId": "37762638-a76e-4699-909b-712cea57ecf6"
      },
      "outputs": [
        {
          "name": "stderr",
          "output_type": "stream",
          "text": [
            "Using unk_token, but it is not set yet.\n",
            "Using unk_token, but it is not set yet.\n",
            "Using unk_token, but it is not set yet.\n",
            "Using unk_token, but it is not set yet.\n",
            "Using unk_token, but it is not set yet.\n",
            "Using unk_token, but it is not set yet.\n",
            "Using unk_token, but it is not set yet.\n",
            "Using unk_token, but it is not set yet.\n"
          ]
        }
      ],
      "source": [
        "if local:\n",
        "    tokenizer = CanineTokenizer.from_pretrained(\"./bert_models/canine-c/\")\n",
        "else:\n",
        "    tokenizer = CanineTokenizer.from_pretrained('google/canine-c')\n",
      ],
      "id": "focused-snowboard"
    },
    {
      "cell_type": "code",
      "execution_count": null,
      "metadata": {
        "id": "collect-priest"
      },
      "outputs": [],
      "source": [
        "def cast_data(data: pd.core.series.Series, max_length):\n",
        "    input_ids = []\n",
        "    attention_masks = []\n",
        "    for sent in data:\n",
        "        encoded_dict = tokenizer.encode_plus(\n",
        "                            sent,                      \n",
        "                            add_special_tokens = False, \n",
        "                            truncation=True,\n",
        "                            max_length = max_length,\n",
        "                            padding = \"max_length\",\n",
        "                            return_attention_mask = True,\n",
        "                            return_tensors = 'pt'\n",
        "                       )\n",
        "        input_ids.append(encoded_dict['input_ids'])\n",
        "        attention_masks.append(encoded_dict['attention_mask'])\n",
        "    input_ids = torch.cat(input_ids, dim=0)\n",
        "    attention_masks = torch.cat(attention_masks, dim=0)\n",
        "    return input_ids, attention_masks "
      ],
      "id": "collect-priest"
    },
    {
      "cell_type": "code",
      "execution_count": null,
      "metadata": {
        "id": "smart-egypt"
      },
      "outputs": [],
      "source": [
        "training_ids, training_attention = cast_data(training_sentences, max_length)\n",
        "training_labels = torch.tensor(training_labels.to_list())\n",
        "\n",
        "validation_ids, validation_attention = cast_data(validation_sentences, max_length)\n",
        "validation_labels = torch.tensor(validation_labels.to_list())"
      ],
      "id": "smart-egypt"
    },
    {
      "cell_type": "code",
      "execution_count": null,
      "metadata": {
        "id": "advanced-custom"
      },
      "outputs": [],
      "source": [
        "training_dataset = TensorDataset(training_ids, training_attention, training_labels)\n",
        "train_dataloader = DataLoader(training_dataset,  sampler = RandomSampler(training_dataset),  batch_size = batch_size)\n",
        "validation_dataset = TensorDataset(validation_ids, validation_attention, validation_labels)\n",
        "validation_dataloader = DataLoader(validation_dataset, sampler = SequentialSampler(validation_dataset), batch_size = batch_size)"
      ],
      "id": "advanced-custom"
    },
    {
      "cell_type": "code",
      "execution_count": null,
      "metadata": {
        "colab": {
          "base_uri": "https://localhost:8080/"
        },
        "id": "resident-estonia",
        "outputId": "f7268df5-4145-49ed-afaa-7d8807ab5afa"
      },
      "outputs": [
        {
          "name": "stderr",
          "output_type": "stream",
          "text": [
            "Some weights of CanineForSequenceClassification were not initialized from the model checkpoint at google/canine-c and are newly initialized: ['classifier.weight', 'classifier.bias']\n",
            "You should probably TRAIN this model on a down-stream task to be able to use it for predictions and inference.\n"
          ]
        }
      ],
      "source": [
        "if local:\n",
        "    model = AutoModelForSequenceClassification.from_pretrained(\"./bert_models/canine-c/\", \n",
        "                                                          num_labels = 2, \n",
        "                                                          output_attentions = False, output_hidden_states = False)\n",
        "else:\n",
        "    model = AutoModelForSequenceClassification.from_pretrained(\"google/canine-c\", \n",
        "                                                          num_labels = 2, \n",
        "                                                          output_attentions = False, output_hidden_states = False)\n",
        "if gpu:\n",
        "    model.cuda()"
      ],
      "id": "resident-estonia"
    },
    {
      "cell_type": "code",
      "execution_count": null,
      "metadata": {
        "colab": {
          "base_uri": "https://localhost:8080/"
        },
        "id": "vietnamese-comfort",
        "outputId": "247e4408-c184-4b36-e690-e8d8449515f4"
      },
      "outputs": [
        {
          "name": "stderr",
          "output_type": "stream",
          "text": [
            "/usr/local/lib/python3.7/dist-packages/transformers/optimization.py:309: FutureWarning: This implementation of AdamW is deprecated and will be removed in a future version. Use the PyTorch implementation torch.optim.AdamW instead, or set `no_deprecation_warning=True` to disable this warning\n",
            "  FutureWarning,\n"
          ]
        }
      ],
      "source": [
        "optimizer = AdamW(model.parameters(), lr = 2e-5)"
      ],
      "id": "vietnamese-comfort"
    },
    {
      "cell_type": "code",
      "execution_count": null,
      "metadata": {
        "id": "demonstrated-fight"
      },
      "outputs": [],
      "source": [
        "# Function to calculate the accuracy of our predictions vs labels\n",
        "def flat_accuracy(preds, labels):\n",
        "    labels_flat = labels.flatten()\n",
        "    return np.sum(np.argmax(preds, axis=1).flatten() == labels_flat) / len(labels_flat)"
      ],
      "id": "demonstrated-fight"
    },
    {
      "cell_type": "code",
      "execution_count": null,
      "metadata": {
        "colab": {
          "background_save": true,
          "base_uri": "https://localhost:8080/"
        },
        "id": "critical-antenna",
        "outputId": "b1f86d11-7dc9-4eff-90bc-d9847e946c2a"
      },
      "outputs": [
        {
          "name": "stderr",
          "output_type": "stream",
          "text": [
            "Training epoch 0: 548it [07:50,  1.17it/s]\n"
          ]
        },
        {
          "name": "stdout",
          "output_type": "stream",
          "text": [
            "\n",
            "  Average training loss: 0.44\n",
            "\n",
            "Running Validation...\n"
          ]
        },
        {
          "name": "stderr",
          "output_type": "stream",
          "text": [
            "Processing validation dataset: 100%|██████████| 61/61 [00:22<00:00,  2.74it/s]\n"
          ]
        },
        {
          "name": "stdout",
          "output_type": "stream",
          "text": [
            "  Accuracy: 0.84\n",
            "  Validation Loss: 0.38\n"
          ]
        },
        {
          "name": "stderr",
          "output_type": "stream",
          "text": [
            "Training epoch 1: 548it [07:49,  1.17it/s]\n"
          ]
        },
        {
          "name": "stdout",
          "output_type": "stream",
          "text": [
            "\n",
            "  Average training loss: 0.36\n",
            "\n",
            "Running Validation...\n"
          ]
        },
        {
          "name": "stderr",
          "output_type": "stream",
          "text": [
            "Processing validation dataset: 100%|██████████| 61/61 [00:22<00:00,  2.74it/s]\n"
          ]
        },
        {
          "name": "stdout",
          "output_type": "stream",
          "text": [
            "  Accuracy: 0.84\n",
            "  Validation Loss: 0.36\n"
          ]
        },
        {
          "name": "stderr",
          "output_type": "stream",
          "text": [
            "Training epoch 2: 548it [07:48,  1.17it/s]\n"
          ]
        },
        {
          "name": "stdout",
          "output_type": "stream",
          "text": [
            "\n",
            "  Average training loss: 0.30\n",
            "\n",
            "Running Validation...\n"
          ]
        },
        {
          "name": "stderr",
          "output_type": "stream",
          "text": [
            "Processing validation dataset: 100%|██████████| 61/61 [00:22<00:00,  2.76it/s]\n"
          ]
        },
        {
          "name": "stdout",
          "output_type": "stream",
          "text": [
            "  Accuracy: 0.84\n",
            "  Validation Loss: 0.40\n"
          ]
        },
        {
          "name": "stderr",
          "output_type": "stream",
          "text": [
            "Training epoch 3: 548it [07:44,  1.18it/s]\n"
          ]
        },
        {
          "name": "stdout",
          "output_type": "stream",
          "text": [
            "\n",
            "  Average training loss: 0.23\n",
            "\n",
            "Running Validation...\n"
          ]
        },
        {
          "name": "stderr",
          "output_type": "stream",
          "text": [
            "Processing validation dataset: 100%|██████████| 61/61 [00:21<00:00,  2.81it/s]"
          ]
        },
        {
          "name": "stdout",
          "output_type": "stream",
          "text": [
            "  Accuracy: 0.84\n",
            "  Validation Loss: 0.47\n"
          ]
        },
        {
          "name": "stderr",
          "output_type": "stream",
          "text": [
            "\n"
          ]
        }
      ],
      "source": [
        "seed_val = 42\n",
        "\n",
        "random.seed(seed_val)\n",
        "np.random.seed(seed_val)\n",
        "torch.manual_seed(seed_val)\n",
        "torch.cuda.manual_seed_all(seed_val)\n",
        "\n",
        "history = []\n",
        "\n",
        "for epoch_i in range(0, epochs):\n",
        "    total_train_loss = 0\n",
        "    \n",
        "    model.train()\n",
        "\n",
        "    progress_bar = tqdm(enumerate(train_dataloader), desc=\"Training epoch \"+str(epoch_i), miniters=20)\n",
        "    for step, batch in progress_bar:\n",
        "        b_input_ids = batch[0].to(device)\n",
        "        b_input_mask = batch[1].to(device)\n",
        "        b_labels = batch[2].to(device)\n",
        "\n",
        "        model.zero_grad()        \n",
        "\n",
        "        loss, logits = model(b_input_ids, \n",
        "                             token_type_ids=None, \n",
        "                             attention_mask=b_input_mask, \n",
        "                             labels=b_labels).to_tuple()\n",
        "\n",
        "        total_train_loss += loss.item()\n",
        "        loss.backward()\n",
        "        torch.nn.utils.clip_grad_norm_(model.parameters(), 1.0)\n",
        "        optimizer.step()\n",
        "\n",
        "    avg_train_loss = total_train_loss / len(train_dataloader)            \n",
        "    \n",
        "    print(\"\")\n",
        "    print(\"  Average training loss: {0:.2f}\".format(avg_train_loss))\n",
        "    \n",
        "    print(\"\")\n",
        "    print(\"Running Validation...\")\n",
        "\n",
        "\n",
        "    model.eval()\n",
        "\n",
        "    total_eval_accuracy = 0\n",
        "    total_eval_loss = 0\n",
        "    nb_eval_steps = 0\n",
        "    progress_bar = tqdm(validation_dataloader, desc=\"Processing validation dataset\", miniters=20)\n",
        "\n",
        "    # Evaluate data for one epoch\n",
        "    for batch in progress_bar:        \n",
        "        b_input_ids = batch[0].to(device)\n",
        "        b_input_mask = batch[1].to(device)\n",
        "        b_labels = batch[2].to(device)\n",
        "        \n",
        "        with torch.no_grad():        \n",
        "            loss, logits = model(b_input_ids, \n",
        "                                   token_type_ids=None, \n",
        "                                   attention_mask=b_input_mask,\n",
        "                                   labels=b_labels).to_tuple()\n",
        "            \n",
        "        total_eval_loss += loss.item()\n",
        "\n",
        "        logits = logits.detach().cpu().numpy()\n",
        "        label_ids = b_labels.to('cpu').numpy()\n",
        "\n",
        "        total_eval_accuracy += flat_accuracy(logits, label_ids)\n",
        "    avg_val_accuracy = total_eval_accuracy / len(validation_dataloader)\n",
        "    print(\"  Accuracy: {0:.2f}\".format(avg_val_accuracy))\n",
        "\n",
        "    avg_val_loss = total_eval_loss / len(validation_dataloader)\n",
        "    \n",
        "    print(\"  Validation Loss: {0:.2f}\".format(avg_val_loss))\n",
        "\n",
        "    \n",
        "    history.append(\n",
        "        {\n",
        "            'epoch': epoch_i + 1,\n",
        "            'Training Loss': avg_train_loss,\n",
        "            'Valid. Loss': avg_val_loss,\n",
        "            'Valid. Accur.': avg_val_accuracy,\n",
        "        }\n",
        "    )"
      ],
      "id": "critical-antenna"
    },
    {
      "cell_type": "markdown",
      "metadata": {
        "id": "possible-suspension"
      },
      "source": [
        "### Training stats"
      ],
      "id": "possible-suspension"
    },
    {
      "cell_type": "code",
      "execution_count": null,
      "metadata": {
        "colab": {
          "background_save": true
        },
        "id": "affiliated-legislation",
        "outputId": "a297dced-6a17-44b8-afd8-5651c03a763d"
      },
      "outputs": [
        {
          "data": {
            "text/html": [
              "\n",
              "  <div id=\"df-afbb277d-7987-429a-8afb-f8793907fdbc\">\n",
              "    <div class=\"colab-df-container\">\n",
              "      <div>\n",
              "<style scoped>\n",
              "    .dataframe tbody tr th:only-of-type {\n",
              "        vertical-align: middle;\n",
              "    }\n",
              "\n",
              "    .dataframe tbody tr th {\n",
              "        vertical-align: top;\n",
              "    }\n",
              "\n",
              "    .dataframe thead th {\n",
              "        text-align: right;\n",
              "    }\n",
              "</style>\n",
              "<table border=\"1\" class=\"dataframe\">\n",
              "  <thead>\n",
              "    <tr style=\"text-align: right;\">\n",
              "      <th></th>\n",
              "      <th>Training Loss</th>\n",
              "      <th>Valid. Loss</th>\n",
              "      <th>Valid. Accur.</th>\n",
              "    </tr>\n",
              "    <tr>\n",
              "      <th>epoch</th>\n",
              "      <th></th>\n",
              "      <th></th>\n",
              "      <th></th>\n",
              "    </tr>\n",
              "  </thead>\n",
              "  <tbody>\n",
              "    <tr>\n",
              "      <th>1</th>\n",
              "      <td>0.44</td>\n",
              "      <td>0.38</td>\n",
              "      <td>0.84</td>\n",
              "    </tr>\n",
              "    <tr>\n",
              "      <th>2</th>\n",
              "      <td>0.36</td>\n",
              "      <td>0.36</td>\n",
              "      <td>0.84</td>\n",
              "    </tr>\n",
              "    <tr>\n",
              "      <th>3</th>\n",
              "      <td>0.30</td>\n",
              "      <td>0.40</td>\n",
              "      <td>0.84</td>\n",
              "    </tr>\n",
              "    <tr>\n",
              "      <th>4</th>\n",
              "      <td>0.23</td>\n",
              "      <td>0.47</td>\n",
              "      <td>0.84</td>\n",
              "    </tr>\n",
              "  </tbody>\n",
              "</table>\n",
              "</div>\n",
              "      <button class=\"colab-df-convert\" onclick=\"convertToInteractive('df-afbb277d-7987-429a-8afb-f8793907fdbc')\"\n",
              "              title=\"Convert this dataframe to an interactive table.\"\n",
              "              style=\"display:none;\">\n",
              "        \n",
              "  <svg xmlns=\"http://www.w3.org/2000/svg\" height=\"24px\"viewBox=\"0 0 24 24\"\n",
              "       width=\"24px\">\n",
              "    <path d=\"M0 0h24v24H0V0z\" fill=\"none\"/>\n",
              "    <path d=\"M18.56 5.44l.94 2.06.94-2.06 2.06-.94-2.06-.94-.94-2.06-.94 2.06-2.06.94zm-11 1L8.5 8.5l.94-2.06 2.06-.94-2.06-.94L8.5 2.5l-.94 2.06-2.06.94zm10 10l.94 2.06.94-2.06 2.06-.94-2.06-.94-.94-2.06-.94 2.06-2.06.94z\"/><path d=\"M17.41 7.96l-1.37-1.37c-.4-.4-.92-.59-1.43-.59-.52 0-1.04.2-1.43.59L10.3 9.45l-7.72 7.72c-.78.78-.78 2.05 0 2.83L4 21.41c.39.39.9.59 1.41.59.51 0 1.02-.2 1.41-.59l7.78-7.78 2.81-2.81c.8-.78.8-2.07 0-2.86zM5.41 20L4 18.59l7.72-7.72 1.47 1.35L5.41 20z\"/>\n",
              "  </svg>\n",
              "      </button>\n",
              "      \n",
              "  <style>\n",
              "    .colab-df-container {\n",
              "      display:flex;\n",
              "      flex-wrap:wrap;\n",
              "      gap: 12px;\n",
              "    }\n",
              "\n",
              "    .colab-df-convert {\n",
              "      background-color: #E8F0FE;\n",
              "      border: none;\n",
              "      border-radius: 50%;\n",
              "      cursor: pointer;\n",
              "      display: none;\n",
              "      fill: #1967D2;\n",
              "      height: 32px;\n",
              "      padding: 0 0 0 0;\n",
              "      width: 32px;\n",
              "    }\n",
              "\n",
              "    .colab-df-convert:hover {\n",
              "      background-color: #E2EBFA;\n",
              "      box-shadow: 0px 1px 2px rgba(60, 64, 67, 0.3), 0px 1px 3px 1px rgba(60, 64, 67, 0.15);\n",
              "      fill: #174EA6;\n",
              "    }\n",
              "\n",
              "    [theme=dark] .colab-df-convert {\n",
              "      background-color: #3B4455;\n",
              "      fill: #D2E3FC;\n",
              "    }\n",
              "\n",
              "    [theme=dark] .colab-df-convert:hover {\n",
              "      background-color: #434B5C;\n",
              "      box-shadow: 0px 1px 3px 1px rgba(0, 0, 0, 0.15);\n",
              "      filter: drop-shadow(0px 1px 2px rgba(0, 0, 0, 0.3));\n",
              "      fill: #FFFFFF;\n",
              "    }\n",
              "  </style>\n",
              "\n",
              "      <script>\n",
              "        const buttonEl =\n",
              "          document.querySelector('#df-afbb277d-7987-429a-8afb-f8793907fdbc button.colab-df-convert');\n",
              "        buttonEl.style.display =\n",
              "          google.colab.kernel.accessAllowed ? 'block' : 'none';\n",
              "\n",
              "        async function convertToInteractive(key) {\n",
              "          const element = document.querySelector('#df-afbb277d-7987-429a-8afb-f8793907fdbc');\n",
              "          const dataTable =\n",
              "            await google.colab.kernel.invokeFunction('convertToInteractive',\n",
              "                                                     [key], {});\n",
              "          if (!dataTable) return;\n",
              "\n",
              "          const docLinkHtml = 'Like what you see? Visit the ' +\n",
              "            '<a target=\"_blank\" href=https://colab.research.google.com/notebooks/data_table.ipynb>data table notebook</a>'\n",
              "            + ' to learn more about interactive tables.';\n",
              "          element.innerHTML = '';\n",
              "          dataTable['output_type'] = 'display_data';\n",
              "          await google.colab.output.renderOutput(dataTable, element);\n",
              "          const docLink = document.createElement('div');\n",
              "          docLink.innerHTML = docLinkHtml;\n",
              "          element.appendChild(docLink);\n",
              "        }\n",
              "      </script>\n",
              "    </div>\n",
              "  </div>\n",
              "  "
            ],
            "text/plain": [
              "       Training Loss  Valid. Loss  Valid. Accur.\n",
              "epoch                                           \n",
              "1               0.44         0.38           0.84\n",
              "2               0.36         0.36           0.84\n",
              "3               0.30         0.40           0.84\n",
              "4               0.23         0.47           0.84"
            ]
          },
          "execution_count": null,
          "metadata": {},
          "output_type": "execute_result"
        }
      ],
      "source": [
        "df_stats = pd.DataFrame(data=history).set_index('epoch')\n",
        "df_stats"
      ],
      "id": "affiliated-legislation"
    },
    {
      "cell_type": "code",
      "execution_count": null,
      "metadata": {
        "colab": {
          "background_save": true
        },
        "id": "processed-shelf",
        "outputId": "37d3f3eb-bd0a-4791-b644-adab889446cc"
      },
      "outputs": [
        {
          "data": {
            "image/png": "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\n",
            "text/plain": [
              "<Figure size 864x432 with 1 Axes>"
            ]
          },
          "metadata": {},
          "output_type": "display_data"
        }
      ],
      "source": [
        "# Use plot styling from seaborn.\n",
        "sns.set(style='darkgrid')\n",
        "\n",
        "# Increase the plot size and font size.\n",
        "sns.set(font_scale=1.5)\n",
        "plt.rcParams[\"figure.figsize\"] = (12,6)\n",
        "\n",
        "# Plot the learning curve.\n",
        "plt.plot(df_stats['Training Loss'], 'b-o', label=\"Training\")\n",
        "plt.plot(df_stats['Valid. Loss'], 'g-o', label=\"Validation\")\n",
        "\n",
        "# Label the plot.\n",
        "plt.title(\"Training & Validation Loss\")\n",
        "plt.xlabel(\"Epoch\")\n",
        "plt.ylabel(\"Loss\")\n",
        "plt.legend()\n",
        "plt.xticks([1, 2, 3, 4])\n",
        "plt.show()"
      ],
      "id": "processed-shelf"
    },
    {
      "cell_type": "markdown",
      "metadata": {
        "id": "continued-paintball"
      },
      "source": [
        "## Testing the model"
      ],
      "id": "continued-paintball"
    },
    {
      "cell_type": "code",
      "execution_count": null,
      "metadata": {
        "colab": {
          "background_save": true
        },
        "id": "religious-section"
      },
      "outputs": [],
      "source": [
        "test_ids, test_attention = cast_data(test_sentences, max_length)\n",
        "test_labels = torch.tensor(test_labels.to_list())\n",
        "prediction_data = TensorDataset(test_ids, test_attention, test_labels)\n",
        "prediction_sampler = SequentialSampler(prediction_data)\n",
        "prediction_dataloader = DataLoader(prediction_data, sampler=prediction_sampler, batch_size=32)"
      ],
      "id": "religious-section"
    },
    {
      "cell_type": "code",
      "execution_count": null,
      "metadata": {
        "colab": {
          "background_save": true
        },
        "id": "federal-break"
      },
      "outputs": [],
      "source": [
        "model.eval()\n",
        "predictions , true_labels = [], []\n",
        "for batch in prediction_dataloader:\n",
        "    batch = tuple(t.to(device) for t in batch)\n",
        "    b_input_ids, b_input_mask, b_labels = batch\n",
        "  \n",
        "    with torch.no_grad():\n",
        "        outputs = model(b_input_ids, token_type_ids=None, \n",
        "                          attention_mask=b_input_mask).to_tuple()\n",
        "    logits = outputs[0]\n",
        "    logits = logits.detach().cpu().numpy()\n",
        "    label_ids = b_labels.to('cpu').numpy()\n",
        "    predictions+=[np.argmax(x) for x in logits.tolist()]\n",
        "    true_labels+=label_ids.tolist()"
      ],
      "id": "federal-break"
    },
    {
      "cell_type": "code",
      "execution_count": 77,
      "metadata": {
        "colab": {
          "base_uri": "https://localhost:8080/"
        },
        "id": "mineral-chapter",
        "outputId": "3571ffb9-d24e-47fe-cdb9-9d9ea533b689"
      },
      "outputs": [
        {
          "output_type": "stream",
          "name": "stdout",
          "text": [
            "Precision 0.7990018045719853\n",
            "Recall 0.7687195639256683\n",
            "Fscore 0.7818446284539136\n"
          ]
        }
      ],
      "source": [
        "precision, recall, fscore, _ = precision_recall_fscore_support(true_labels, predictions, average=\"macro\")\n",
        "print(\"Precision\", precision)\n",
        "print(\"Recall\", recall)\n",
        "print(\"Fscore\", fscore)"
      ],
      "id": "mineral-chapter"
    },
    {
      "cell_type": "code",
      "execution_count": null,
      "metadata": {
        "id": "Dv21CMXG77zd"
      },
      "outputs": [],
      "source": [
        ""
      ],
      "id": "Dv21CMXG77zd"
    },
    {
      "cell_type": "code",
      "execution_count": null,
      "metadata": {
        "id": "unlimited-coverage"
      },
      "outputs": [],
      "source": [
        ""
      ],
      "id": "unlimited-coverage"
    },
    {
      "cell_type": "code",
      "execution_count": null,
      "metadata": {
        "id": "wBYikrSb_2iT"
      },
      "outputs": [],
      "source": [
        ""
      ],
      "id": "wBYikrSb_2iT"
    },
    {
      "cell_type": "code",
      "execution_count": null,
      "metadata": {
        "id": "R8oJck3H_3pw"
      },
      "outputs": [],
      "source": [
        ""
      ],
      "id": "R8oJck3H_3pw"
    },
    {
      "cell_type": "code",
      "execution_count": null,
      "metadata": {
        "id": "01Ag2ujeAoQ3"
      },
      "outputs": [],
      "source": [
        ""
      ],
      "id": "01Ag2ujeAoQ3"
    }
  ],
  "metadata": {
    "accelerator": "GPU",
    "colab": {
      "collapsed_sections": [],
      "name": "Canine-c.ipynb",
      "provenance": []
    },
    "kernelspec": {
      "display_name": "Python 3",
      "language": "python",
      "name": "python3"
    },
    "language_info": {
      "codemirror_mode": {
        "name": "ipython",
        "version": 3
      },
      "file_extension": ".py",
      "mimetype": "text/x-python",
      "name": "python",
      "nbconvert_exporter": "python",
      "pygments_lexer": "ipython3",
      "version": "3.8.0"
    }
  },
  "nbformat": 4,
  "nbformat_minor": 5
}
